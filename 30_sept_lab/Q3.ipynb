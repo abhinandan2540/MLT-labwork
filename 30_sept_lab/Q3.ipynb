{
 "cells": [
  {
   "cell_type": "code",
   "execution_count": 18,
   "id": "bec6ead1",
   "metadata": {},
   "outputs": [
    {
     "name": "stdout",
     "output_type": "stream",
     "text": [
      "[0.9333333333333333, 0.9555555555555556, 0.9555555555555556, 0.9555555555555556]\n"
     ]
    }
   ],
   "source": [
    "import pandas as pd\n",
    "from sklearn.datasets import load_iris\n",
    "from sklearn.model_selection import train_test_split\n",
    "from sklearn.tree import DecisionTreeClassifier\n",
    "from sklearn.metrics import accuracy_score\n",
    "\n",
    "iris = load_iris()\n",
    "x = iris.data\n",
    "y = iris.target\n",
    "\n",
    "x_train, x_test, y_train, y_test = train_test_split(x, y, test_size=0.3)\n",
    "\n",
    "# gini_cofficients for different max_depth\n",
    "max_depth_list=[2,3,4,5]\n",
    "\n",
    "def gini_accuracy_with_variable_max_depth(max_depths:list,x_train,y_train,x_test,y_test):\n",
    "    accuracy_max_variables=[]\n",
    "    for depth in max_depths:\n",
    "        gini_cofficient = DecisionTreeClassifier(criterion='gini',max_depth=depth)\n",
    "        gini_cofficient.fit(x_train, y_train)\n",
    "        # predicting values\n",
    "        y_pred_gini=gini_cofficient.predict(x_test)\n",
    "        # accuracy\n",
    "        gini_accuracy=accuracy_score(y_test, y_pred_gini)\n",
    "        accuracy_max_variables.append(gini_accuracy)\n",
    "\n",
    "    return accuracy_max_variables\n",
    "\n",
    "max_depths=[2,3,4,5]\n",
    "accuracy_for_max_depths=gini_accuracy_with_variable_max_depth(max_depths,x_train,y_train,x_test,y_test)\n",
    "\n",
    "print(accuracy_for_max_depths)        \n",
    "        "
   ]
  }
 ],
 "metadata": {
  "kernelspec": {
   "display_name": "env",
   "language": "python",
   "name": "python3"
  },
  "language_info": {
   "codemirror_mode": {
    "name": "ipython",
    "version": 3
   },
   "file_extension": ".py",
   "mimetype": "text/x-python",
   "name": "python",
   "nbconvert_exporter": "python",
   "pygments_lexer": "ipython3",
   "version": "3.13.1"
  }
 },
 "nbformat": 4,
 "nbformat_minor": 5
}
