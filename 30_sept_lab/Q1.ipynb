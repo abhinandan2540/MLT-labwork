{
 "cells": [
  {
   "cell_type": "code",
   "execution_count": 46,
   "id": "935d3b71",
   "metadata": {},
   "outputs": [
    {
     "name": "stdout",
     "output_type": "stream",
     "text": [
      "0.9333333333333333\n",
      "              precision    recall  f1-score   support\n",
      "\n",
      "           0       1.00      1.00      1.00        18\n",
      "           1       0.80      1.00      0.89        12\n",
      "           2       1.00      0.80      0.89        15\n",
      "\n",
      "    accuracy                           0.93        45\n",
      "   macro avg       0.93      0.93      0.93        45\n",
      "weighted avg       0.95      0.93      0.93        45\n",
      "\n"
     ]
    }
   ],
   "source": [
    "import pandas as pd\n",
    "from sklearn.datasets import load_iris\n",
    "from sklearn.model_selection import train_test_split\n",
    "from sklearn.tree import DecisionTreeClassifier\n",
    "from sklearn.metrics import accuracy_score, classification_report\n",
    "\n",
    "iris=load_iris()\n",
    "x=iris.data\n",
    "y=iris.target\n",
    "\n",
    "x_train, x_test, y_train, y_test=train_test_split(x,y,test_size=0.3)\n",
    "\n",
    "# gini_cofficient\n",
    "gini_cofficient=DecisionTreeClassifier(criterion='gini',max_depth=3)\n",
    "gini_cofficient.fit(x_train, y_train)\n",
    "\n",
    "# predicting\n",
    "y_pred=gini_cofficient.predict(x_test)\n",
    "\n",
    "# accuracy evaluating\n",
    "gini_accuracy=accuracy_score(y_test, y_pred)\n",
    "print(gini_accuracy)\n",
    "\n",
    "# classification report\n",
    "gini_classification=classification_report(y_test,y_pred)\n",
    "print(gini_classification)\n"
   ]
  }
 ],
 "metadata": {
  "kernelspec": {
   "display_name": "env",
   "language": "python",
   "name": "python3"
  },
  "language_info": {
   "codemirror_mode": {
    "name": "ipython",
    "version": 3
   },
   "file_extension": ".py",
   "mimetype": "text/x-python",
   "name": "python",
   "nbconvert_exporter": "python",
   "pygments_lexer": "ipython3",
   "version": "3.13.1"
  }
 },
 "nbformat": 4,
 "nbformat_minor": 5
}
