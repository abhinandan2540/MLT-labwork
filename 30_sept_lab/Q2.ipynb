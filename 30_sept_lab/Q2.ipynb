{
 "cells": [
  {
   "cell_type": "code",
   "execution_count": 21,
   "id": "3e7165a3",
   "metadata": {},
   "outputs": [
    {
     "name": "stdout",
     "output_type": "stream",
     "text": [
      "Gini accuracy: 0.9555555555555556\n",
      "Entropy accuracy: 0.9333333333333333\n",
      "Gini classificaiton report :               precision    recall  f1-score   support\n",
      "\n",
      "           0       1.00      1.00      1.00        16\n",
      "           1       0.87      1.00      0.93        13\n",
      "           2       1.00      0.88      0.93        16\n",
      "\n",
      "    accuracy                           0.96        45\n",
      "   macro avg       0.96      0.96      0.95        45\n",
      "weighted avg       0.96      0.96      0.96        45\n",
      "\n",
      "Entropy classificaiton report :               precision    recall  f1-score   support\n",
      "\n",
      "           0       1.00      1.00      1.00        16\n",
      "           1       0.81      1.00      0.90        13\n",
      "           2       1.00      0.81      0.90        16\n",
      "\n",
      "    accuracy                           0.93        45\n",
      "   macro avg       0.94      0.94      0.93        45\n",
      "weighted avg       0.95      0.93      0.93        45\n",
      "\n"
     ]
    }
   ],
   "source": [
    "import pandas as pd\n",
    "from sklearn.datasets import load_iris\n",
    "from sklearn.model_selection import train_test_split\n",
    "from sklearn.tree import DecisionTreeClassifier\n",
    "from sklearn.metrics import accuracy_score,classification_report\n",
    "\n",
    "iris = load_iris()\n",
    "x = iris.data\n",
    "y = iris.target\n",
    "\n",
    "x_train, x_test, y_train, y_test = train_test_split(x, y, test_size=0.3)\n",
    "\n",
    "# gini_cofficient\n",
    "gini_cofficient = DecisionTreeClassifier(criterion='gini', max_depth=3)\n",
    "entropy_cofficient = DecisionTreeClassifier(criterion='entropy', max_depth=3)\n",
    "\n",
    "\n",
    "gini_cofficient.fit(x_train, y_train)\n",
    "entropy_cofficient.fit(x_train, y_train)\n",
    "\n",
    "# predicting\n",
    "y_pred_gini = gini_cofficient.predict(x_test)\n",
    "y_pred_entropy=entropy_cofficient.predict(x_test)\n",
    "\n",
    "# accuracy evaluating\n",
    "gini_accuracy = accuracy_score(y_test, y_pred_gini)\n",
    "entropy_accuracy=accuracy_score(y_test, y_pred_entropy)\n",
    "\n",
    "print(f\"Gini accuracy: {gini_accuracy}\")\n",
    "print(f\"Entropy accuracy: {entropy_accuracy}\")\n",
    "\n",
    "# classification_report\n",
    "gini_classification=classification_report(y_test, y_pred_gini)\n",
    "entropy_classification=classification_report(y_test, y_pred_entropy)\n",
    "\n",
    "print(f\"Gini classificaiton report : {gini_classification}\")\n",
    "print(f\"Entropy classificaiton report : {entropy_classification}\")\n",
    "\n",
    "\n",
    "\n"
   ]
  }
 ],
 "metadata": {
  "kernelspec": {
   "display_name": "env",
   "language": "python",
   "name": "python3"
  },
  "language_info": {
   "codemirror_mode": {
    "name": "ipython",
    "version": 3
   },
   "file_extension": ".py",
   "mimetype": "text/x-python",
   "name": "python",
   "nbconvert_exporter": "python",
   "pygments_lexer": "ipython3",
   "version": "3.13.1"
  }
 },
 "nbformat": 4,
 "nbformat_minor": 5
}
