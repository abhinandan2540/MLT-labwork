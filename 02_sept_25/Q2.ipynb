{
 "cells": [
  {
   "cell_type": "code",
   "execution_count": null,
   "id": "e012f8a5",
   "metadata": {},
   "outputs": [
    {
     "name": "stdout",
     "output_type": "stream",
     "text": [
      "    features       VIF\n",
      "0       area  1.170959\n",
      "1   bedrooms  1.316597\n",
      "2  bathrooms  1.252775\n",
      "3    stories  1.255202\n",
      "4    parking  1.164172\n"
     ]
    }
   ],
   "source": [
    "\n",
    "# checking if the multicollinerity exists, using VIF score\n",
    "import pandas as pd\n",
    "import numpy as np\n",
    "from sklearn.linear_model import LinearRegression\n",
    "from sklearn.metrics import r2_score\n",
    "csv = pd.read_csv('Housing.csv')\n",
    "\n",
    "features = ['area', 'bedrooms', 'bathrooms', 'stories', 'parking']\n",
    "x=csv[features].values\n",
    "\n",
    "def calcuate_VIF(x:np.ndarray,features_list:list):\n",
    "    vif_score=[]\n",
    "    n=x.shape[1]\n",
    "    for i in range(n):\n",
    "        y=x[:,i]\n",
    "        x_others=np.delete(x,i,axis=1)\n",
    "        model=LinearRegression()\n",
    "        model.fit(x_others,y)\n",
    "        y_prediction=model.predict(x_others)\n",
    "        r2=r2_score(y,y_prediction)\n",
    "        if (r2<1):\n",
    "            vif=1/(1-r2)\n",
    "        else:\n",
    "            vif=np.inf\n",
    "        vif_score.append({\"features\":features_list[i], 'VIF':vif})\n",
    "    return pd.DataFrame(vif_score)\n",
    "\n",
    "variable_vif_score=calcuate_VIF(x,features)\n",
    "print(variable_vif_score)\n",
    "\n",
    "\n",
    "# so from the above code, it was found that\n",
    "# no multicollinerity exists in the given dataset."
   ]
  }
 ],
 "metadata": {
  "kernelspec": {
   "display_name": "env",
   "language": "python",
   "name": "python3"
  },
  "language_info": {
   "codemirror_mode": {
    "name": "ipython",
    "version": 3
   },
   "file_extension": ".py",
   "mimetype": "text/x-python",
   "name": "python",
   "nbconvert_exporter": "python",
   "pygments_lexer": "ipython3",
   "version": "3.13.1"
  }
 },
 "nbformat": 4,
 "nbformat_minor": 5
}
