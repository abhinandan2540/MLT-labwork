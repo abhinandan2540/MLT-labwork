{
 "cells": [
  {
   "cell_type": "code",
   "execution_count": 2,
   "id": "6a8dbd9a",
   "metadata": {},
   "outputs": [],
   "source": [
    "import pandas as pd\n",
    "import numpy as np\n",
    "import matplotlib.pyplot as plt\n",
    "from sklearn.metrics import mean_squared_error, r2_score\n",
    "from sklearn.linear_model import LinearRegression\n",
    "from sklearn.preprocessing import PolynomialFeatures\n",
    "\n",
    "from sklearn.model_selection import RandomizedSearchCV\n",
    "# in RandomizedSearchCV, instead of specifying a list of values, we can specify a distribution for each parameters\n",
    "from scipy.stats import randint\n",
    "from sklearn.pipeline import Pipeline\n",
    "\n",
    "csv = pd.read_csv('Housing.csv')\n",
    "# print(csv.head())\n",
    "x = np.array(csv['area']).reshape(-1, 1)\n",
    "y = np.array(csv['price']).reshape(-1, 1)"
   ]
  },
  {
   "cell_type": "code",
   "execution_count": null,
   "id": "6641d373",
   "metadata": {},
   "outputs": [
    {
     "name": "stdout",
     "output_type": "stream",
     "text": [
      "6\n"
     ]
    }
   ],
   "source": [
    "# RandomizedSearchCV\n",
    "\n",
    "def RandomizedSearchCV_Parameter(x, y):\n",
    "\n",
    "    # parameter grid\n",
    "    param_grid = {\"poly__degree\": randint(2,10)}\n",
    "\n",
    "    # models pipeline\n",
    "    model_pipeline = Pipeline([\n",
    "        (\"poly\", PolynomialFeatures()),\n",
    "        ('linear', LinearRegression())\n",
    "    ])\n",
    "\n",
    "    # implemention of GridSearchCV\n",
    "    random = RandomizedSearchCV(\n",
    "        estimator=model_pipeline, param_distributions=param_grid, cv=5,n_iter=10,random_state=42)\n",
    "    random.fit(x, y)\n",
    "    return random.best_params_\n",
    "\n",
    "\n",
    "best_polynomial = RandomizedSearchCV_Parameter(x, y)\n",
    "print(best_polynomial['poly__degree'])"
   ]
  },
  {
   "cell_type": "code",
   "execution_count": 11,
   "id": "50f0076e",
   "metadata": {},
   "outputs": [],
   "source": [
    "# model with best k degree\n",
    "def polynomial_regression_best_k(x, y):\n",
    "\n",
    "    # best k degree with GridSearchCV\n",
    "    best_k_degree = RandomizedSearchCV_Parameter(x, y)\n",
    "\n",
    "    poly = PolynomialFeatures(degree=best_k_degree['poly__degree'])\n",
    "    x_poly = poly.fit_transform(x)\n",
    "\n",
    "    # linear regression model\n",
    "    model = LinearRegression()\n",
    "    model.fit(x_poly, y)\n",
    "\n",
    "    # prediction\n",
    "    y_pred = model.predict(x_poly)\n",
    "    return y_pred\n",
    "\n",
    "\n",
    "y_pred = polynomial_regression_best_k(x, y)\n",
    "# print(y_pred)\n",
    "# print(y)"
   ]
  },
  {
   "cell_type": "code",
   "execution_count": 12,
   "id": "44a83d3a",
   "metadata": {},
   "outputs": [
    {
     "name": "stdout",
     "output_type": "stream",
     "text": [
      "2395899934792.761\n",
      "0.313913468434192\n"
     ]
    }
   ],
   "source": [
    "# Model evaluation\n",
    "mse = mean_squared_error(y,y_pred)\n",
    "r2=r2_score(y,y_pred)\n",
    "\n",
    "print(mse)\n",
    "print(r2)"
   ]
  }
 ],
 "metadata": {
  "kernelspec": {
   "display_name": "env",
   "language": "python",
   "name": "python3"
  },
  "language_info": {
   "codemirror_mode": {
    "name": "ipython",
    "version": 3
   },
   "file_extension": ".py",
   "mimetype": "text/x-python",
   "name": "python",
   "nbconvert_exporter": "python",
   "pygments_lexer": "ipython3",
   "version": "3.13.1"
  }
 },
 "nbformat": 4,
 "nbformat_minor": 5
}
