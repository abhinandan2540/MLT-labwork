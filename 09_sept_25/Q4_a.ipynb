{
 "cells": [
  {
   "cell_type": "code",
   "execution_count": 1,
   "id": "b33a13ef",
   "metadata": {},
   "outputs": [],
   "source": [
    "import pandas as pd\n",
    "import numpy as np\n",
    "import matplotlib.pyplot as plt\n",
    "from sklearn.metrics import mean_squared_error, r2_score\n",
    "from sklearn.linear_model import LinearRegression\n",
    "from sklearn.preprocessing import PolynomialFeatures\n",
    "\n",
    "# for gridsearchCV\n",
    "from sklearn.model_selection import GridSearchCV\n",
    "from sklearn.pipeline import Pipeline\n",
    "\n",
    "csv = pd.read_csv('Housing.csv')\n",
    "# print(csv.head())\n",
    "x = np.array(csv['area']).reshape(-1,1)\n",
    "y = np.array(csv['price']).reshape(-1,1)\n",
    "\n"
   ]
  },
  {
   "cell_type": "code",
   "execution_count": 8,
   "id": "b2a2da58",
   "metadata": {},
   "outputs": [
    {
     "name": "stdout",
     "output_type": "stream",
     "text": [
      "6\n"
     ]
    }
   ],
   "source": [
    "# GridSearchCV\n",
    "\n",
    "def GridSearchCV_Parameter(x,y):\n",
    "\n",
    "    # parameter grid\n",
    "    param_grid={\"poly__degree\":[2,3,4,5,6,7,8,9,10]}\n",
    "\n",
    "    # models pipeline\n",
    "    model_pipeline = Pipeline([\n",
    "        (\"poly\", PolynomialFeatures()),\n",
    "        ('linear', LinearRegression())\n",
    "    ])\n",
    "\n",
    "    # implemention of GridSearchCV\n",
    "    grid = GridSearchCV(estimator=model_pipeline, param_grid=param_grid, cv=5)\n",
    "    grid.fit(x, y)\n",
    "    return grid.best_params_\n",
    "\n",
    "best_k_degree=GridSearchCV_Parameter(x,y)\n",
    "print(best_k_degree['poly__degree'])"
   ]
  },
  {
   "cell_type": "code",
   "execution_count": 12,
   "id": "598217d4",
   "metadata": {},
   "outputs": [],
   "source": [
    "# model with best k degree\n",
    "def polynomial_regression_best_k(x,y):\n",
    "\n",
    "    # best k degree with GridSearchCV\n",
    "    best_k_degree=GridSearchCV_Parameter(x,y)\n",
    "\n",
    "    poly=PolynomialFeatures(degree=best_k_degree['poly__degree'])\n",
    "    x_poly=poly.fit_transform(x)\n",
    "\n",
    "    # linear regression model\n",
    "    model=LinearRegression()\n",
    "    model.fit(x_poly,y)\n",
    "\n",
    "    # prediction\n",
    "    y_pred=model.predict(x_poly)\n",
    "    return y_pred\n",
    "    \n",
    "y_pred = polynomial_regression_best_k(x, y)\n",
    "# print(y)\n",
    "# print(y_pred)"
   ]
  },
  {
   "cell_type": "code",
   "execution_count": 13,
   "id": "db559b08",
   "metadata": {},
   "outputs": [
    {
     "name": "stdout",
     "output_type": "stream",
     "text": [
      "2395899934792.761\n",
      "0.313913468434192\n"
     ]
    }
   ],
   "source": [
    "# Model evaluation\n",
    "mse = mean_squared_error(y, y_pred)\n",
    "r2 = r2_score(y, y_pred)\n",
    "\n",
    "print(mse)\n",
    "print(r2)"
   ]
  }
 ],
 "metadata": {
  "kernelspec": {
   "display_name": "env",
   "language": "python",
   "name": "python3"
  },
  "language_info": {
   "codemirror_mode": {
    "name": "ipython",
    "version": 3
   },
   "file_extension": ".py",
   "mimetype": "text/x-python",
   "name": "python",
   "nbconvert_exporter": "python",
   "pygments_lexer": "ipython3",
   "version": "3.13.1"
  }
 },
 "nbformat": 4,
 "nbformat_minor": 5
}
