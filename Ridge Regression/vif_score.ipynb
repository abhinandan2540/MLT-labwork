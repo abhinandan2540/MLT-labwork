{
 "cells": [
  {
   "cell_type": "markdown",
   "id": "a90175d3",
   "metadata": {},
   "source": [
    "VIF score prediction from scratch"
   ]
  },
  {
   "cell_type": "code",
   "execution_count": 1,
   "id": "d2065d1e",
   "metadata": {},
   "outputs": [
    {
     "name": "stdout",
     "output_type": "stream",
     "text": [
      "     feature       VIF\n",
      "0       area  1.170959\n",
      "1   bedrooms  1.316597\n",
      "2  bathrooms  1.252775\n",
      "3    stories  1.255202\n",
      "4    parking  1.164172\n"
     ]
    }
   ],
   "source": [
    "# for checking the VIF(mutlicollinerity), we need to include multiple features\n",
    "import pandas as pd\n",
    "import numpy as np\n",
    "from sklearn.linear_model import LinearRegression\n",
    "from sklearn.metrics import r2_score\n",
    "csv = pd.read_csv('Housing.csv')\n",
    "# print(csv.head())\n",
    "# for multicollinerity, we'll find the VIF between area, bedrooms, bathrooms, stories, parking\n",
    "# cause in multiple regression, we're using the above to predict the price.\n",
    "# x = np.array(csv[['area','bedrooms','bathrooms','stories','parking']])\n",
    "\n",
    "features = ['area', 'bedrooms', 'bathrooms', 'stories', 'parking']\n",
    "x = csv[features].values\n",
    "# print(x)\n",
    "# print(x)\n",
    "# # for each 5 features\n",
    "# # print(x.shape[1])\n",
    "# n=x.shape[1]\n",
    "# y=x[:,2]\n",
    "# print(y)\n",
    "# # taking other features except that feature\n",
    "# x_other=np.delete(x,2,axis=1)\n",
    "# print(x_other)\n",
    "\n",
    "\n",
    "def calculating_VIF(x: np.ndarray, feature_list: list):\n",
    "    n = x.shape[1]\n",
    "    vif_score = []\n",
    "    for i in range(n):\n",
    "        y = x[:, i]\n",
    "        x_other = np.delete(x, i, axis=1)\n",
    "        model = LinearRegression()\n",
    "        model.fit(x_other, y)\n",
    "        y_predicted = model.predict(x_other)\n",
    "        r2 = r2_score(y, y_predicted)\n",
    "        if r2 < 1:\n",
    "            vif = 1/(1-r2)\n",
    "        else:\n",
    "            vif = np.inf\n",
    "        vif_score.append({\"feature\": feature_list[i], \"VIF\": vif})\n",
    "    return pd.DataFrame(vif_score)\n",
    "\n",
    "\n",
    "vif_data = calculating_VIF(x, features)\n",
    "print(vif_data)"
   ]
  }
 ],
 "metadata": {
  "kernelspec": {
   "display_name": "env",
   "language": "python",
   "name": "python3"
  },
  "language_info": {
   "codemirror_mode": {
    "name": "ipython",
    "version": 3
   },
   "file_extension": ".py",
   "mimetype": "text/x-python",
   "name": "python",
   "nbconvert_exporter": "python",
   "pygments_lexer": "ipython3",
   "version": "3.13.1"
  }
 },
 "nbformat": 4,
 "nbformat_minor": 5
}
