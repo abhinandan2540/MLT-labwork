{
 "cells": [
  {
   "cell_type": "markdown",
   "id": "ac465e08",
   "metadata": {},
   "source": [
    " a) For all numerical columns (e.g., Age, Fare), compute summary statistics: mean,\n",
    " median, standard deviation, minimum, and maximum."
   ]
  },
  {
   "cell_type": "code",
   "execution_count": 2,
   "id": "ccfafb77",
   "metadata": {},
   "outputs": [
    {
     "name": "stdout",
     "output_type": "stream",
     "text": [
      "       PassengerId    Survived      Pclass         Age       SibSp  \\\n",
      "count   418.000000  418.000000  418.000000  332.000000  418.000000   \n",
      "mean   1100.500000    0.363636    2.265550   30.272590    0.447368   \n",
      "std     120.810458    0.481622    0.841838   14.181209    0.896760   \n",
      "min     892.000000    0.000000    1.000000    0.170000    0.000000   \n",
      "25%     996.250000    0.000000    1.000000   21.000000    0.000000   \n",
      "50%    1100.500000    0.000000    3.000000   27.000000    0.000000   \n",
      "75%    1204.750000    1.000000    3.000000   39.000000    1.000000   \n",
      "max    1309.000000    1.000000    3.000000   76.000000    8.000000   \n",
      "\n",
      "            Parch        Fare  \n",
      "count  418.000000  417.000000  \n",
      "mean     0.392344   35.627188  \n",
      "std      0.981429   55.907576  \n",
      "min      0.000000    0.000000  \n",
      "25%      0.000000    7.895800  \n",
      "50%      0.000000   14.454200  \n",
      "75%      0.000000   31.500000  \n",
      "max      9.000000  512.329200  \n"
     ]
    }
   ],
   "source": [
    "import pandas as pd\n",
    "\n",
    "csv_data=pd.read_csv('titanic_csv.csv')\n",
    "# print(csv_data.head())\n",
    "\n",
    "csv_data_stats_summary=csv_data.describe()\n",
    "print(csv_data_stats_summary)"
   ]
  },
  {
   "cell_type": "markdown",
   "id": "499ea938",
   "metadata": {},
   "source": [
    " b) Provide short interpretations: what do these values suggest about central tendency,\n",
    " variability, and possible outliers\n",
    "\n",
    "\n",
    "# central tendency\n",
    "-----------------------------\n",
    "central tendency is a single value that attempts to describe the center /typical value of the distribution.\n",
    "\n",
    "# variability\n",
    "----------------------------------\n",
    "This refers as how dispersed the data points are within a dataset\n",
    "\n"
   ]
  },
  {
   "cell_type": "code",
   "execution_count": 6,
   "id": "319a5e1d",
   "metadata": {},
   "outputs": [],
   "source": [
    "# for passengerID, survived, pclass, age, sibsp, parch, fare\n",
    "# mean we have\n",
    "# median and mode of these values\n",
    "\n",
    "# passengerID\n",
    "passengerID_median=csv_data['PassengerId'].median()\n",
    "# can't have passenger mode, every passenger has unique id\n",
    "# passengerID_mode=csv_data['PassengerId'].mode()\n",
    "\n",
    "# print(passengerID_median)  # 1100.5\n",
    "# print(passengerID_mode)\n",
    "\n",
    "# survived\n",
    "survided_median=csv_data['Survived'].median()\n",
    "survided_mode=csv_data['Survived'].mode()\n",
    "\n",
    "# print(survided_median) #0\n",
    "# print(survided_mode) #0\n",
    "\n",
    "# pclass\n",
    "pclass_median=csv_data['Pclass'].median()\n",
    "pclass_mode=csv_data['Pclass'].mode()\n",
    "\n",
    "# print(pclass_median) #3\n",
    "# print(pclass_mode) #3\n",
    "\n",
    "# age\n",
    "age_median=csv_data['Age'].median()\n",
    "age_mode=csv_data['Age'].mode()\n",
    "\n",
    "# print(age_median) #27.0\n",
    "# print(age_mode) #21.0, 24.0\n",
    "\n",
    "# sibsp\n",
    "sibsp_median=csv_data['SibSp'].median()\n",
    "sibsp_mode=csv_data['SibSp'].mode()\n",
    "\n",
    "# print(sibsp_median) #0.0\n",
    "# print(sibsp_mode) #0\n",
    "\n",
    "# parch\n",
    "parch_median=csv_data['Parch'].median()\n",
    "parch_mode=csv_data['Parch'].mode()\n",
    "\n",
    "# print(parch_median) #0.0\n",
    "# print(parch_mode) #0.0\n",
    "\n",
    "# fare\n",
    "fare_median=csv_data['Fare'].median()\n",
    "fare_mode=csv_data['Fare'].mode()\n",
    "\n",
    "# print(fare_median) #14.4542\n",
    "# print(fare_mode) #7.75\n"
   ]
  },
  {
   "cell_type": "markdown",
   "id": "29a61363",
   "metadata": {},
   "source": [
    " (c)For categorical columns (e.g., Sex, Embarked, Pclass), report frequency counts and\n",
    " comment on the distributions."
   ]
  },
  {
   "cell_type": "code",
   "execution_count": 9,
   "id": "c9c6bc34",
   "metadata": {},
   "outputs": [
    {
     "name": "stdout",
     "output_type": "stream",
     "text": [
      "Sex\n",
      "male      266\n",
      "female    152\n",
      "Name: count, dtype: int64\n",
      "Embarked\n",
      "S    270\n",
      "C    102\n",
      "Q     46\n",
      "Name: count, dtype: int64\n",
      "Pclass\n",
      "3    218\n",
      "1    107\n",
      "2     93\n",
      "Name: count, dtype: int64\n"
     ]
    }
   ],
   "source": [
    "# frequency counts \n",
    "# frquency counts give us what data repeats how many number of times in a dataset.\n",
    "\n",
    "# for sex\n",
    "fq_sex=csv_data['Sex'].value_counts()\n",
    "print(fq_sex)\n",
    "\n",
    "# for embarked\n",
    "fq_embarked=csv_data['Embarked'].value_counts()\n",
    "print(fq_embarked)\n",
    "\n",
    "# for pcclass\n",
    "fq_pcclass=csv_data['Pclass'].value_counts()\n",
    "print(fq_pcclass)"
   ]
  }
 ],
 "metadata": {
  "kernelspec": {
   "display_name": "env",
   "language": "python",
   "name": "python3"
  },
  "language_info": {
   "codemirror_mode": {
    "name": "ipython",
    "version": 3
   },
   "file_extension": ".py",
   "mimetype": "text/x-python",
   "name": "python",
   "nbconvert_exporter": "python",
   "pygments_lexer": "ipython3",
   "version": "3.13.1"
  }
 },
 "nbformat": 4,
 "nbformat_minor": 5
}
