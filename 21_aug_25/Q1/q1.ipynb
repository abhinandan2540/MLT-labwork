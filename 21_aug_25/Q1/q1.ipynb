{
 "cells": [
  {
   "cell_type": "markdown",
   "id": "1461c1d9",
   "metadata": {},
   "source": [
    " a) Read the dataset (CSV) into a Pandas DataFrame"
   ]
  },
  {
   "cell_type": "code",
   "execution_count": 1,
   "id": "6a2d8d7c",
   "metadata": {},
   "outputs": [
    {
     "name": "stdout",
     "output_type": "stream",
     "text": [
      "   PassengerId  Survived  Pclass  \\\n",
      "0          892         0       3   \n",
      "1          893         1       3   \n",
      "2          894         0       2   \n",
      "3          895         0       3   \n",
      "4          896         1       3   \n",
      "\n",
      "                                           Name     Sex   Age  SibSp  Parch  \\\n",
      "0                              Kelly, Mr. James    male  34.5      0      0   \n",
      "1              Wilkes, Mrs. James (Ellen Needs)  female  47.0      1      0   \n",
      "2                     Myles, Mr. Thomas Francis    male  62.0      0      0   \n",
      "3                              Wirz, Mr. Albert    male  27.0      0      0   \n",
      "4  Hirvonen, Mrs. Alexander (Helga E Lindqvist)  female  22.0      1      1   \n",
      "\n",
      "    Ticket     Fare Cabin Embarked  \n",
      "0   330911   7.8292   NaN        Q  \n",
      "1   363272   7.0000   NaN        S  \n",
      "2   240276   9.6875   NaN        Q  \n",
      "3   315154   8.6625   NaN        S  \n",
      "4  3101298  12.2875   NaN        S  \n"
     ]
    }
   ],
   "source": [
    "\n",
    "import pandas as pd\n",
    "csv_content=pd.read_csv('titanic_csv.csv')\n",
    "print(csv_content.head())"
   ]
  },
  {
   "cell_type": "markdown",
   "id": "7703be8d",
   "metadata": {},
   "source": [
    " b) Write the loaded DataFrame into two additional formats:\n",
    " (a) Excel (.xlsx)\n",
    " (b) JSON (.json)"
   ]
  },
  {
   "cell_type": "code",
   "execution_count": 2,
   "id": "a5689c4d",
   "metadata": {},
   "outputs": [],
   "source": [
    "# writing csv data into excel file\n",
    "# excel file name : titanic_excel\n",
    "csv_content.to_excel(\"titanic_excel.xlsx\",index=False)"
   ]
  },
  {
   "cell_type": "code",
   "execution_count": 3,
   "id": "10978aa1",
   "metadata": {},
   "outputs": [],
   "source": [
    "# writing csv data into json file\n",
    "csv_content.to_json('titanic_json.json')\n"
   ]
  },
  {
   "cell_type": "markdown",
   "id": "27143275",
   "metadata": {},
   "source": [
    " c) Read the dataset back from each format (CSV, Excel, JSON) into new DataFrames\n",
    " and verify consistency (e.g., shape, column names, basic value checks)"
   ]
  },
  {
   "cell_type": "code",
   "execution_count": 4,
   "id": "82069e6d",
   "metadata": {},
   "outputs": [
    {
     "name": "stdout",
     "output_type": "stream",
     "text": [
      "   PassengerId  Survived  Pclass  \\\n",
      "0          892         0       3   \n",
      "1          893         1       3   \n",
      "2          894         0       2   \n",
      "3          895         0       3   \n",
      "4          896         1       3   \n",
      "\n",
      "                                           Name     Sex   Age  SibSp  Parch  \\\n",
      "0                              Kelly, Mr. James    male  34.5      0      0   \n",
      "1              Wilkes, Mrs. James (Ellen Needs)  female  47.0      1      0   \n",
      "2                     Myles, Mr. Thomas Francis    male  62.0      0      0   \n",
      "3                              Wirz, Mr. Albert    male  27.0      0      0   \n",
      "4  Hirvonen, Mrs. Alexander (Helga E Lindqvist)  female  22.0      1      1   \n",
      "\n",
      "    Ticket     Fare Cabin Embarked  \n",
      "0   330911   7.8292   NaN        Q  \n",
      "1   363272   7.0000   NaN        S  \n",
      "2   240276   9.6875   NaN        Q  \n",
      "3   315154   8.6625   NaN        S  \n",
      "4  3101298  12.2875   NaN        S  \n"
     ]
    }
   ],
   "source": [
    "# reading titanic_excel \n",
    "excel_df=pd.read_excel('titanic_excel.xlsx')\n",
    "print(excel_df.head())"
   ]
  },
  {
   "cell_type": "code",
   "execution_count": 5,
   "id": "5aac91dc",
   "metadata": {},
   "outputs": [
    {
     "name": "stdout",
     "output_type": "stream",
     "text": [
      "   PassengerId  Survived  Pclass  \\\n",
      "0          892         0       3   \n",
      "1          893         1       3   \n",
      "2          894         0       2   \n",
      "3          895         0       3   \n",
      "4          896         1       3   \n",
      "\n",
      "                                           Name     Sex   Age  SibSp  Parch  \\\n",
      "0                              Kelly, Mr. James    male  34.5      0      0   \n",
      "1              Wilkes, Mrs. James (Ellen Needs)  female  47.0      1      0   \n",
      "2                     Myles, Mr. Thomas Francis    male  62.0      0      0   \n",
      "3                              Wirz, Mr. Albert    male  27.0      0      0   \n",
      "4  Hirvonen, Mrs. Alexander (Helga E Lindqvist)  female  22.0      1      1   \n",
      "\n",
      "    Ticket     Fare Cabin Embarked  \n",
      "0   330911   7.8292  None        Q  \n",
      "1   363272   7.0000  None        S  \n",
      "2   240276   9.6875  None        Q  \n",
      "3   315154   8.6625  None        S  \n",
      "4  3101298  12.2875  None        S  \n"
     ]
    }
   ],
   "source": [
    "# reading titanic_json dataset\n",
    "json_df=pd.read_json('titanic_json.json')\n",
    "print(json_df.head())"
   ]
  },
  {
   "cell_type": "markdown",
   "id": "d68a3dcb",
   "metadata": {},
   "source": [
    "Append a few new passenger rows to each format (CSV, Excel, JSON). Reload each\n",
    "file and confirm that the newly appended rows are present."
   ]
  },
  {
   "cell_type": "code",
   "execution_count": null,
   "id": "ce603e6d",
   "metadata": {},
   "outputs": [],
   "source": [
    "# reading features in csv file\n",
    "csv_data_features=csv_content.columns\n",
    "# print(csv_data_features)\n",
    "# print(csv_content.info())\n",
    "\n",
    "# appending new data into csv file\n",
    "try:\n",
    "    csv_new_data = {'PassengerId':[891],'Survived':[1],'Pclass':[3],'Name':['Abhinandan'],'Sex':['male'],'Age':['22.1'],'SibSp':[1],'Parch':[0],'Ticket':['123365'],'Fare':[6.456],'Cabin':['B12'],'Embarked':['Q']}\n",
    "    csv_new_df_to_append=pd.DataFrame(csv_new_data)\n",
    "    # print(csv_new_df_to_append)\n",
    "    # permission denied while appending new data into dataset\n",
    "\n",
    "    # apply this method\n",
    "    combined_dataframe=pd.concat([csv_content,csv_new_df_to_append],ignore_index=True)\n",
    "    combined_dataframe.to_csv('new_titanic_csv.csv',mode='w',index=False)\n",
    "except Exception as e:\n",
    "    print(e)"
   ]
  },
  {
   "cell_type": "code",
   "execution_count": 8,
   "id": "2f44422e",
   "metadata": {},
   "outputs": [],
   "source": [
    "# appending data into excel\n",
    "excel_new_data = {'PassengerId':[891],'Survived':[1],'Pclass':[3],'Name':['Abhinandan'],'Sex':['male'],'Age':['22.1'],'SibSp':[1],'Parch':[0],'Ticket':['123365'],'Fare':[6.456],'Cabin':['B12'],'Embarked':['Q']}\n",
    "excel_new_df_to_append=pd.DataFrame(excel_new_data)\n",
    "\n",
    "excel_combined_df=pd.concat([excel_df,excel_new_df_to_append],ignore_index=True)\n",
    "excel_combined_df.to_excel('new_titanic_excel.xlsx',index=False)\n"
   ]
  },
  {
   "cell_type": "code",
   "execution_count": 9,
   "id": "417106ef",
   "metadata": {},
   "outputs": [],
   "source": [
    "# appending new data into json\n",
    "excel_new_data = {'PassengerId': 891, 'Survived': 1, 'Pclass': 3, 'Name': 'Abhinandan', 'Sex': 'male', 'Age': \n",
    "    '22.1', 'SibSp': 1, 'Parch': 0, 'Ticket': '123365', 'Fare': 6.456, 'Cabin': 'B12', 'Embarked': 'Q'}\n",
    "\n",
    "json_new_df_to_append=pd.DataFrame([excel_new_data])\n",
    "json_combined_df=pd.concat([json_df,json_new_df_to_append],ignore_index=True)\n",
    "json_combined_df.to_json('new_titanic_json.json',index=False)\n",
    "    "
   ]
  },
  {
   "cell_type": "markdown",
   "id": "5f3fa8e6",
   "metadata": {},
   "source": [
    "dataset's information of the data"
   ]
  },
  {
   "cell_type": "code",
   "execution_count": 11,
   "id": "d35b2d6a",
   "metadata": {},
   "outputs": [
    {
     "name": "stdout",
     "output_type": "stream",
     "text": [
      "       PassengerId    Survived      Pclass         Age       SibSp  \\\n",
      "count   418.000000  418.000000  418.000000  332.000000  418.000000   \n",
      "mean   1100.500000    0.363636    2.265550   30.272590    0.447368   \n",
      "std     120.810458    0.481622    0.841838   14.181209    0.896760   \n",
      "min     892.000000    0.000000    1.000000    0.170000    0.000000   \n",
      "25%     996.250000    0.000000    1.000000   21.000000    0.000000   \n",
      "50%    1100.500000    0.000000    3.000000   27.000000    0.000000   \n",
      "75%    1204.750000    1.000000    3.000000   39.000000    1.000000   \n",
      "max    1309.000000    1.000000    3.000000   76.000000    8.000000   \n",
      "\n",
      "            Parch        Fare  \n",
      "count  418.000000  417.000000  \n",
      "mean     0.392344   35.627188  \n",
      "std      0.981429   55.907576  \n",
      "min      0.000000    0.000000  \n",
      "25%      0.000000    7.895800  \n",
      "50%      0.000000   14.454200  \n",
      "75%      0.000000   31.500000  \n",
      "max      9.000000  512.329200  \n"
     ]
    }
   ],
   "source": [
    "# information of all the datas of the dataset\n",
    "print(csv_content.describe())"
   ]
  }
 ],
 "metadata": {
  "kernelspec": {
   "display_name": "env",
   "language": "python",
   "name": "python3"
  },
  "language_info": {
   "codemirror_mode": {
    "name": "ipython",
    "version": 3
   },
   "file_extension": ".py",
   "mimetype": "text/x-python",
   "name": "python",
   "nbconvert_exporter": "python",
   "pygments_lexer": "ipython3",
   "version": "3.13.1"
  }
 },
 "nbformat": 4,
 "nbformat_minor": 5
}
