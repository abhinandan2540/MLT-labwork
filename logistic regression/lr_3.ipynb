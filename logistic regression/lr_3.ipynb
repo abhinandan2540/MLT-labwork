{
 "cells": [
  {
   "cell_type": "code",
   "execution_count": 11,
   "id": "380bccaf",
   "metadata": {},
   "outputs": [
    {
     "name": "stdout",
     "output_type": "stream",
     "text": [
      "75.0\n",
      "[[ 8  6]\n",
      " [ 4 22]]\n",
      "              precision    recall  f1-score   support\n",
      "\n",
      "           0       0.67      0.57      0.62        14\n",
      "           1       0.79      0.85      0.81        26\n",
      "\n",
      "    accuracy                           0.75        40\n",
      "   macro avg       0.73      0.71      0.72        40\n",
      "weighted avg       0.74      0.75      0.75        40\n",
      "\n"
     ]
    }
   ],
   "source": [
    "# logistic regression using sklearn\n",
    "\n",
    "import pandas as pd\n",
    "import numpy as np\n",
    "from sklearn.model_selection import train_test_split\n",
    "from sklearn.preprocessing import StandardScaler\n",
    "from sklearn.linear_model import LogisticRegression\n",
    "from sklearn.metrics import accuracy_score, classification_report,confusion_matrix\n",
    "\n",
    "csv=pd.read_csv('pmt.csv')\n",
    "\n",
    "x = np.array(csv[['age', 'parent_divorce', 'parent_mental_health', 'abuse_history']])\n",
    "y = np.array(csv['mental_trauma'])\n",
    "\n",
    "# splitting data for train_test\n",
    "x_train,x_test,y_train,y_test=train_test_split(x,y,random_state=43,test_size=0.2)\n",
    "\n",
    "# Z score standardization\n",
    "scaler=StandardScaler()\n",
    "X_train=scaler.fit_transform(x_train)\n",
    "X_test=scaler.transform(x_test)\n",
    "\n",
    "# logistic regression model\n",
    "model=LogisticRegression()\n",
    "model.fit(X_train, y_train)\n",
    "y_pred=model.predict(X_test)\n",
    "\n",
    "\n",
    "# accuracy score\n",
    "accuracy=accuracy_score(y_test, y_pred)\n",
    "print(accuracy*100)\n",
    "\n",
    "# confusion matrix\n",
    "confusion=confusion_matrix(y_test, y_pred)\n",
    "print(confusion)\n",
    "\n",
    "# classification report\n",
    "classification=classification_report(y_test, y_pred)\n",
    "print(classification)"
   ]
  }
 ],
 "metadata": {
  "kernelspec": {
   "display_name": "env",
   "language": "python",
   "name": "python3"
  },
  "language_info": {
   "codemirror_mode": {
    "name": "ipython",
    "version": 3
   },
   "file_extension": ".py",
   "mimetype": "text/x-python",
   "name": "python",
   "nbconvert_exporter": "python",
   "pygments_lexer": "ipython3",
   "version": "3.13.1"
  }
 },
 "nbformat": 4,
 "nbformat_minor": 5
}
