{
 "cells": [
  {
   "cell_type": "code",
   "execution_count": null,
   "id": "d52448f4",
   "metadata": {},
   "outputs": [
    {
     "name": "stdout",
     "output_type": "stream",
     "text": [
      "index 50 is out of bounds for axis 0 with size 40\n"
     ]
    }
   ],
   "source": [
    "import pandas as pd\n",
    "import matplotlib.pyplot as plt\n",
    "import numpy as np\n",
    "from sklearn.model_selection import train_test_split\n",
    "\n",
    "csv=pd.read_csv('pmt.csv')\n",
    "# print(csv.head())\n",
    "\n",
    "# finding out binary class classification\n",
    "# the effects of others on mental_trauma\n",
    "\n",
    "x = np.array(csv[['age', 'parent_divorce', 'parent_mental_health', 'abuse_history']])\n",
    "y = np.array(csv['mental_trauma'])\n",
    "\n",
    "# splitting data for train_test\n",
    "x_train,x_test,y_train,y_test=train_test_split(x,y,random_state=43,test_size=0.2)\n",
    "\n",
    "# train model using train data, test on testing data\n",
    "try:\n",
    "    def sigmoid_function(z):\n",
    "        return (1/(1+np.exp(-z)))\n",
    "\n",
    "    def logistic_regression_GD(x,y,learning_rate, n_iteration):\n",
    "        w=np.zeros((x.shape[1],1))\n",
    "        b=0\n",
    "        m=len(y)\n",
    "        y=y.reshape(-1,1)\n",
    "\n",
    "        for _ in range(n_iteration):\n",
    "            z=x@w+b\n",
    "            y_pred=sigmoid_function(z)\n",
    "            cost_function=y_pred - y\n",
    "            # gradients\n",
    "            dw=(1/m)*(x.T @ cost_function)\n",
    "            db=(1/m)*np.sum(cost_function)\n",
    "            # upgradation\n",
    "            w-=learning_rate*dw\n",
    "            b-=learning_rate*db\n",
    "        \n",
    "        return w,b\n",
    "\n",
    "    w,b=logistic_regression_GD(x_train,y_train,0.01,10000)\n",
    "    # print(w)\n",
    "    # print(b)\n",
    "\n",
    "    # model prediction\n",
    "    z=x_test @ w + b\n",
    "    y_prob=sigmoid_function(z)\n",
    "    y_pred_pre=(y_prob>0.5).astype(int)\n",
    "    y_pred=y_pred_pre.flatten()\n",
    "    # print(y_pred)\n",
    "    # print(y_test)\n",
    "\n",
    "    # plotting\n",
    "\n",
    "\n",
    "except Exception as e:\n",
    "    print(e)\n"
   ]
  }
 ],
 "metadata": {
  "kernelspec": {
   "display_name": "env",
   "language": "python",
   "name": "python3"
  },
  "language_info": {
   "codemirror_mode": {
    "name": "ipython",
    "version": 3
   },
   "file_extension": ".py",
   "mimetype": "text/x-python",
   "name": "python",
   "nbconvert_exporter": "python",
   "pygments_lexer": "ipython3",
   "version": "3.13.1"
  }
 },
 "nbformat": 4,
 "nbformat_minor": 5
}
